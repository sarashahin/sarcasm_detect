{
 "cells": [
  {
   "cell_type": "code",
   "execution_count": 1,
   "id": "1c264822",
   "metadata": {
    "_cell_guid": "b1076dfc-b9ad-4769-8c92-a6c4dae69d19",
    "_uuid": "8f2839f25d086af736a60e9eeb907d3b93b6e0e5",
    "execution": {
     "iopub.execute_input": "2022-08-22T21:56:14.890070Z",
     "iopub.status.busy": "2022-08-22T21:56:14.889281Z",
     "iopub.status.idle": "2022-08-22T21:56:14.910069Z",
     "shell.execute_reply": "2022-08-22T21:56:14.909190Z"
    },
    "papermill": {
     "duration": 0.029374,
     "end_time": "2022-08-22T21:56:14.912132",
     "exception": false,
     "start_time": "2022-08-22T21:56:14.882758",
     "status": "completed"
    },
    "tags": []
   },
   "outputs": [
    {
     "name": "stdout",
     "output_type": "stream",
     "text": [
      "/kaggle/input/sarcasmdata/Sarcasm_Headlines_Dataset.json\n"
     ]
    }
   ],
   "source": [
    "# This Python 3 environment comes with many helpful analytics libraries installed\n",
    "# It is defined by the kaggle/python Docker image: https://github.com/kaggle/docker-python\n",
    "# For example, here's several helpful packages to load\n",
    "\n",
    "import numpy as np # linear algebra\n",
    "import pandas as pd # data processing, CSV file I/O (e.g. pd.read_csv)\n",
    "\n",
    "# Input data files are available in the read-only \"../input/\" directory\n",
    "# For example, running this (by clicking run or pressing Shift+Enter) will list all files under the input directory\n",
    "\n",
    "import os\n",
    "for dirname, _, filenames in os.walk('/kaggle/input'):\n",
    "    for filename in filenames:\n",
    "        print(os.path.join(dirname, filename))\n",
    "\n",
    "# You can write up to 20GB to the current directory (/kaggle/working/) that gets preserved as output when you create a version using \"Save & Run All\" \n",
    "# You can also write temporary files to /kaggle/temp/, but they won't be saved outside of the current session"
   ]
  },
  {
   "cell_type": "code",
   "execution_count": 2,
   "id": "5df100f6",
   "metadata": {
    "execution": {
     "iopub.execute_input": "2022-08-22T21:56:14.923246Z",
     "iopub.status.busy": "2022-08-22T21:56:14.922452Z",
     "iopub.status.idle": "2022-08-22T21:56:20.732449Z",
     "shell.execute_reply": "2022-08-22T21:56:20.731526Z"
    },
    "papermill": {
     "duration": 5.818115,
     "end_time": "2022-08-22T21:56:20.734647",
     "exception": false,
     "start_time": "2022-08-22T21:56:14.916532",
     "status": "completed"
    },
    "tags": []
   },
   "outputs": [],
   "source": [
    "# Importing required libraries\n",
    "import json\n",
    "import tensorflow as tf\n",
    "import requests\n",
    "import numpy as np\n",
    "import pandas as pd\n",
    "from tensorflow.keras.preprocessing.text import Tokenizer\n",
    "from tensorflow.keras.preprocessing.sequence import pad_sequences\n",
    "from matplotlib import pyplot as plt"
   ]
  },
  {
   "cell_type": "code",
   "execution_count": 3,
   "id": "5d76fdd6",
   "metadata": {
    "execution": {
     "iopub.execute_input": "2022-08-22T21:56:20.745095Z",
     "iopub.status.busy": "2022-08-22T21:56:20.744120Z",
     "iopub.status.idle": "2022-08-22T21:56:21.407082Z",
     "shell.execute_reply": "2022-08-22T21:56:21.405659Z"
    },
    "papermill": {
     "duration": 0.671117,
     "end_time": "2022-08-22T21:56:21.410111",
     "exception": false,
     "start_time": "2022-08-22T21:56:20.738994",
     "status": "completed"
    },
    "tags": []
   },
   "outputs": [
    {
     "name": "stdout",
     "output_type": "stream",
     "text": [
      "[\r\n",
      "{\"article_link\": \"https://www.huffingtonpost.com/entry/versace-black-code_us_5861fbefe4b0de3a08f600d5\", \"headline\": \"former versace store clerk sues over secret 'black code' for minority shoppers\", \"is_sarcastic\": 0},\r\n",
      "{\"article_link\": \"https://www.huffingtonpost.com/entry/roseanne-revival-review_us_5ab3a497e4b054d118e04365\", \"headline\": \"the 'roseanne' revival catches up to our thorny political mood, for better and worse\", \"is_sarcastic\": 0},\r\n",
      "{\"article_link\": \"https://local.theonion.com/mom-starting-to-fear-son-s-web-series-closest-thing-s\n"
     ]
    }
   ],
   "source": [
    "# I get the dataset\n",
    "\n",
    "data = requests.get('https://storage.googleapis.com/laurencemoroney-blog.appspot.com/sarcasm.json')\n",
    "# print 550 characters\n",
    "print(data.text[0:550])"
   ]
  },
  {
   "cell_type": "code",
   "execution_count": 4,
   "id": "e46559a3",
   "metadata": {
    "execution": {
     "iopub.execute_input": "2022-08-22T21:56:21.421806Z",
     "iopub.status.busy": "2022-08-22T21:56:21.420971Z",
     "iopub.status.idle": "2022-08-22T21:56:21.473914Z",
     "shell.execute_reply": "2022-08-22T21:56:21.473049Z"
    },
    "papermill": {
     "duration": 0.061196,
     "end_time": "2022-08-22T21:56:21.476385",
     "exception": false,
     "start_time": "2022-08-22T21:56:21.415189",
     "status": "completed"
    },
    "tags": []
   },
   "outputs": [
    {
     "name": "stdout",
     "output_type": "stream",
     "text": [
      "                                              tweets  label\n",
      "0  former versace store clerk sues over secret 'b...      0\n",
      "1  the 'roseanne' revival catches up to our thorn...      0\n",
      "2  mom starting to fear son's web series closest ...      1\n",
      "3  boehner just wants wife to listen, not come up...      1\n",
      "4  j.k. rowling wishes snape happy birthday in th...      0\n",
      "5                        advancing the world's women      0\n",
      "6     the fascinating case for eating lab-grown meat      0\n",
      "7  this ceo will send your kids to school, if you...      0\n",
      "8  top snake handler leaves sinking huckabee camp...      1\n",
      "9  friday's morning email: inside trump's presser...      0\n"
     ]
    }
   ],
   "source": [
    "# Separate the json into sentences and labels\n",
    "tweets = []\n",
    "labels = []\n",
    "for item in data.json():\n",
    "    tweets.append(item['headline'])\n",
    "    labels.append(item['is_sarcastic'])\n",
    "print(pd.DataFrame({'tweets' : tweets[0:10], 'label':labels[0:10]}))\n",
    "\n",
    "\n"
   ]
  },
  {
   "cell_type": "markdown",
   "id": "4339a4df",
   "metadata": {
    "papermill": {
     "duration": 0.004003,
     "end_time": "2022-08-22T21:56:21.484889",
     "exception": false,
     "start_time": "2022-08-22T21:56:21.480886",
     "status": "completed"
    },
    "tags": []
   },
   "source": [
    "To get both of tokenization and sequencing. \n",
    "Tokenization is a task of dividing a string into pieces, called as tokens, while throwing away certain characters like punctuation marks. Tokenization assigns a number to each unique word. Sequencing builds on top of tokenization, by representing sentences as a sequence of numbers."
   ]
  },
  {
   "cell_type": "code",
   "execution_count": 5,
   "id": "639b8b57",
   "metadata": {
    "execution": {
     "iopub.execute_input": "2022-08-22T21:56:21.495235Z",
     "iopub.status.busy": "2022-08-22T21:56:21.494137Z",
     "iopub.status.idle": "2022-08-22T21:56:22.412949Z",
     "shell.execute_reply": "2022-08-22T21:56:22.412031Z"
    },
    "papermill": {
     "duration": 0.926348,
     "end_time": "2022-08-22T21:56:22.415351",
     "exception": false,
     "start_time": "2022-08-22T21:56:21.489003",
     "status": "completed"
    },
    "tags": []
   },
   "outputs": [],
   "source": [
    "# Splitting the dataset into Train and Test\n",
    "trainSize = round(len(tweets) * .75)\n",
    "trainTweet = tweets[0:trainSize]\n",
    "testTweet = tweets[trainSize:]\n",
    "trainLabels = labels[0:trainSize]\n",
    "testLabels = labels[trainSize:]\n",
    "# Setting tokenizer properties\n",
    "vocab_length = 10000\n",
    "oov_tokenizer = \"<oov>\"\n",
    "# Fit the tokenizer on Training data\n",
    "token = Tokenizer(num_words=vocab_length, oov_token=oov_tokenizer)\n",
    "token.fit_on_texts(trainTweet)\n",
    "word_index = token.word_index\n",
    "# Setting the padding properties\n",
    "maximum_length = 100\n",
    "trunc_type='post'\n",
    "padding_type='post'\n",
    "# Creating padded sequences from train and test data\n",
    "training_sequences = token.texts_to_sequences(trainTweet)\n",
    "training_padded = pad_sequences(training_sequences, maxlen=maximum_length, padding=padding_type, truncating=trunc_type)\n",
    "testing_sequences = token.texts_to_sequences(testTweet)\n",
    "testing_padded = pad_sequences(testing_sequences, maxlen=maximum_length, padding=padding_type, truncating=trunc_type)"
   ]
  },
  {
   "cell_type": "code",
   "execution_count": 6,
   "id": "650b0369",
   "metadata": {
    "execution": {
     "iopub.execute_input": "2022-08-22T21:56:22.426716Z",
     "iopub.status.busy": "2022-08-22T21:56:22.425857Z",
     "iopub.status.idle": "2022-08-22T21:56:22.564044Z",
     "shell.execute_reply": "2022-08-22T21:56:22.562578Z"
    },
    "papermill": {
     "duration": 0.146049,
     "end_time": "2022-08-22T21:56:22.566490",
     "exception": false,
     "start_time": "2022-08-22T21:56:22.420441",
     "status": "completed"
    },
    "tags": []
   },
   "outputs": [
    {
     "name": "stdout",
     "output_type": "stream",
     "text": [
      "Model: \"sequential\"\n",
      "_________________________________________________________________\n",
      "Layer (type)                 Output Shape              Param #   \n",
      "=================================================================\n",
      "embedding (Embedding)        (None, 100, 16)           160000    \n",
      "_________________________________________________________________\n",
      "global_average_pooling1d (Gl (None, 16)                0         \n",
      "_________________________________________________________________\n",
      "dense (Dense)                (None, 24)                408       \n",
      "_________________________________________________________________\n",
      "dense_1 (Dense)              (None, 1)                 25        \n",
      "=================================================================\n",
      "Total params: 160,433\n",
      "Trainable params: 160,433\n",
      "Non-trainable params: 0\n",
      "_________________________________________________________________\n"
     ]
    },
    {
     "name": "stderr",
     "output_type": "stream",
     "text": [
      "2022-08-22 21:56:22.482907: I tensorflow/core/common_runtime/process_util.cc:146] Creating new thread pool with default inter op setting: 2. Tune using inter_op_parallelism_threads for best performance.\n"
     ]
    }
   ],
   "source": [
    "# Setting the model parameters\n",
    "\n",
    "# top layer of embedding\n",
    "embedding = 16\n",
    "model = tf.keras.Sequential([\n",
    "    tf.keras.layers.Embedding(vocab_length, embedding, input_length=maximum_length),\n",
    "    tf.keras.layers.GlobalAveragePooling1D(),\n",
    "    tf.keras.layers.Dense(24, activation='relu'),\n",
    "# the final layer is a sigmoid layer which returns the probability of the sentence being sarcastic.\n",
    "    tf.keras.layers.Dense(1, activation='sigmoid')\n",
    "])\n",
    "model.compile(loss='binary_crossentropy',optimizer='adam',metrics=['accuracy'])\n",
    "model.summary()"
   ]
  },
  {
   "cell_type": "markdown",
   "id": "68f5426f",
   "metadata": {
    "papermill": {
     "duration": 0.004197,
     "end_time": "2022-08-22T21:56:22.575779",
     "exception": false,
     "start_time": "2022-08-22T21:56:22.571582",
     "status": "completed"
    },
    "tags": []
   },
   "source": [
    "The neural network was able to achieve 99% accuracy on the training dataset and 81% accuracy on the test dataset."
   ]
  },
  {
   "cell_type": "code",
   "execution_count": 7,
   "id": "51b912e3",
   "metadata": {
    "execution": {
     "iopub.execute_input": "2022-08-22T21:56:22.586173Z",
     "iopub.status.busy": "2022-08-22T21:56:22.585808Z",
     "iopub.status.idle": "2022-08-22T21:57:14.134302Z",
     "shell.execute_reply": "2022-08-22T21:57:14.132818Z"
    },
    "papermill": {
     "duration": 51.55662,
     "end_time": "2022-08-22T21:57:14.136817",
     "exception": false,
     "start_time": "2022-08-22T21:56:22.580197",
     "status": "completed"
    },
    "tags": []
   },
   "outputs": [
    {
     "name": "stderr",
     "output_type": "stream",
     "text": [
      "2022-08-22 21:56:22.656792: I tensorflow/compiler/mlir/mlir_graph_optimization_pass.cc:185] None of the MLIR Optimization Passes are enabled (registered 2)\n"
     ]
    },
    {
     "name": "stdout",
     "output_type": "stream",
     "text": [
      "Epoch 1/40\n",
      "626/626 - 2s - loss: 0.6615 - accuracy: 0.5985 - val_loss: 0.5654 - val_accuracy: 0.7992\n",
      "Epoch 2/40\n",
      "626/626 - 1s - loss: 0.4203 - accuracy: 0.8326 - val_loss: 0.3798 - val_accuracy: 0.8438\n",
      "Epoch 3/40\n",
      "626/626 - 1s - loss: 0.3033 - accuracy: 0.8793 - val_loss: 0.3496 - val_accuracy: 0.8543\n",
      "Epoch 4/40\n",
      "626/626 - 1s - loss: 0.2530 - accuracy: 0.9011 - val_loss: 0.3480 - val_accuracy: 0.8531\n",
      "Epoch 5/40\n",
      "626/626 - 1s - loss: 0.2192 - accuracy: 0.9164 - val_loss: 0.3510 - val_accuracy: 0.8498\n",
      "Epoch 6/40\n",
      "626/626 - 1s - loss: 0.1923 - accuracy: 0.9260 - val_loss: 0.3518 - val_accuracy: 0.8556\n",
      "Epoch 7/40\n",
      "626/626 - 1s - loss: 0.1710 - accuracy: 0.9355 - val_loss: 0.3645 - val_accuracy: 0.8549\n",
      "Epoch 8/40\n",
      "626/626 - 1s - loss: 0.1517 - accuracy: 0.9456 - val_loss: 0.4197 - val_accuracy: 0.8360\n",
      "Epoch 9/40\n",
      "626/626 - 1s - loss: 0.1375 - accuracy: 0.9513 - val_loss: 0.4007 - val_accuracy: 0.8531\n",
      "Epoch 10/40\n",
      "626/626 - 1s - loss: 0.1253 - accuracy: 0.9560 - val_loss: 0.4204 - val_accuracy: 0.8508\n",
      "Epoch 11/40\n",
      "626/626 - 1s - loss: 0.1114 - accuracy: 0.9624 - val_loss: 0.4458 - val_accuracy: 0.8466\n",
      "Epoch 12/40\n",
      "626/626 - 1s - loss: 0.1025 - accuracy: 0.9652 - val_loss: 0.4689 - val_accuracy: 0.8463\n",
      "Epoch 13/40\n",
      "626/626 - 1s - loss: 0.0936 - accuracy: 0.9678 - val_loss: 0.4971 - val_accuracy: 0.8456\n",
      "Epoch 14/40\n",
      "626/626 - 1s - loss: 0.0873 - accuracy: 0.9704 - val_loss: 0.5456 - val_accuracy: 0.8336\n",
      "Epoch 15/40\n",
      "626/626 - 1s - loss: 0.0794 - accuracy: 0.9743 - val_loss: 0.5904 - val_accuracy: 0.8315\n",
      "Epoch 16/40\n",
      "626/626 - 1s - loss: 0.0740 - accuracy: 0.9742 - val_loss: 0.6084 - val_accuracy: 0.8321\n",
      "Epoch 17/40\n",
      "626/626 - 1s - loss: 0.0659 - accuracy: 0.9791 - val_loss: 0.6317 - val_accuracy: 0.8336\n",
      "Epoch 18/40\n",
      "626/626 - 1s - loss: 0.0601 - accuracy: 0.9810 - val_loss: 0.6532 - val_accuracy: 0.8299\n",
      "Epoch 19/40\n",
      "626/626 - 1s - loss: 0.0552 - accuracy: 0.9822 - val_loss: 0.7444 - val_accuracy: 0.8255\n",
      "Epoch 20/40\n",
      "626/626 - 1s - loss: 0.0516 - accuracy: 0.9835 - val_loss: 0.7225 - val_accuracy: 0.8275\n",
      "Epoch 21/40\n",
      "626/626 - 1s - loss: 0.0486 - accuracy: 0.9844 - val_loss: 0.7739 - val_accuracy: 0.8249\n",
      "Epoch 22/40\n",
      "626/626 - 1s - loss: 0.0448 - accuracy: 0.9866 - val_loss: 0.8381 - val_accuracy: 0.8200\n",
      "Epoch 23/40\n",
      "626/626 - 1s - loss: 0.0387 - accuracy: 0.9888 - val_loss: 0.8494 - val_accuracy: 0.8215\n",
      "Epoch 24/40\n",
      "626/626 - 1s - loss: 0.0386 - accuracy: 0.9885 - val_loss: 0.8831 - val_accuracy: 0.8198\n",
      "Epoch 25/40\n",
      "626/626 - 1s - loss: 0.0355 - accuracy: 0.9891 - val_loss: 0.9290 - val_accuracy: 0.8167\n",
      "Epoch 26/40\n",
      "626/626 - 1s - loss: 0.0319 - accuracy: 0.9909 - val_loss: 0.9718 - val_accuracy: 0.8156\n",
      "Epoch 27/40\n",
      "626/626 - 1s - loss: 0.0284 - accuracy: 0.9918 - val_loss: 1.0228 - val_accuracy: 0.8147\n",
      "Epoch 28/40\n",
      "626/626 - 1s - loss: 0.0268 - accuracy: 0.9924 - val_loss: 1.0321 - val_accuracy: 0.8111\n",
      "Epoch 29/40\n",
      "626/626 - 1s - loss: 0.0261 - accuracy: 0.9921 - val_loss: 1.0793 - val_accuracy: 0.8129\n",
      "Epoch 30/40\n",
      "626/626 - 1s - loss: 0.0243 - accuracy: 0.9929 - val_loss: 1.1314 - val_accuracy: 0.8138\n",
      "Epoch 31/40\n",
      "626/626 - 1s - loss: 0.0217 - accuracy: 0.9938 - val_loss: 1.1426 - val_accuracy: 0.8107\n",
      "Epoch 32/40\n",
      "626/626 - 1s - loss: 0.0187 - accuracy: 0.9950 - val_loss: 1.1862 - val_accuracy: 0.8108\n",
      "Epoch 33/40\n",
      "626/626 - 1s - loss: 0.0185 - accuracy: 0.9951 - val_loss: 1.2840 - val_accuracy: 0.8116\n",
      "Epoch 34/40\n",
      "626/626 - 1s - loss: 0.0172 - accuracy: 0.9956 - val_loss: 1.3003 - val_accuracy: 0.8111\n",
      "Epoch 35/40\n",
      "626/626 - 1s - loss: 0.0167 - accuracy: 0.9954 - val_loss: 1.3136 - val_accuracy: 0.8090\n",
      "Epoch 36/40\n",
      "626/626 - 1s - loss: 0.0140 - accuracy: 0.9966 - val_loss: 1.4063 - val_accuracy: 0.8119\n",
      "Epoch 37/40\n",
      "626/626 - 1s - loss: 0.0133 - accuracy: 0.9967 - val_loss: 1.4248 - val_accuracy: 0.8105\n",
      "Epoch 38/40\n",
      "626/626 - 1s - loss: 0.0132 - accuracy: 0.9962 - val_loss: 1.5161 - val_accuracy: 0.8090\n",
      "Epoch 39/40\n",
      "626/626 - 1s - loss: 0.0122 - accuracy: 0.9968 - val_loss: 1.4725 - val_accuracy: 0.8069\n",
      "Epoch 40/40\n",
      "626/626 - 1s - loss: 0.0114 - accuracy: 0.9973 - val_loss: 1.5432 - val_accuracy: 0.8083\n"
     ]
    }
   ],
   "source": [
    "# Converting the lists to numpy arrays for Tensorflow \n",
    "training_padded = np.array(training_padded)\n",
    "training_labels = np.array(trainLabels)\n",
    "testing_padded = np.array(testing_padded)\n",
    "testing_labels = np.array(testLabels)\n",
    "# Training the model\n",
    "num_epochs = 40\n",
    "history = model.fit(training_padded, training_labels, epochs=num_epochs, validation_data=(testing_padded, testing_labels), verbose=2)"
   ]
  },
  {
   "cell_type": "markdown",
   "id": "81997533",
   "metadata": {
    "papermill": {
     "duration": 0.008185,
     "end_time": "2022-08-22T21:57:14.153853",
     "exception": false,
     "start_time": "2022-08-22T21:57:14.145668",
     "status": "completed"
    },
    "tags": []
   },
   "source": [
    "Using the model to predict more new tweets. The model for sentence 1 is  predicted a very high (almost 1)"
   ]
  },
  {
   "cell_type": "code",
   "execution_count": 8,
   "id": "96efa9f6",
   "metadata": {
    "execution": {
     "iopub.execute_input": "2022-08-22T21:57:14.172847Z",
     "iopub.status.busy": "2022-08-22T21:57:14.171833Z",
     "iopub.status.idle": "2022-08-22T21:57:14.280495Z",
     "shell.execute_reply": "2022-08-22T21:57:14.279143Z"
    },
    "papermill": {
     "duration": 0.120421,
     "end_time": "2022-08-22T21:57:14.282684",
     "exception": false,
     "start_time": "2022-08-22T21:57:14.162263",
     "status": "completed"
    },
    "tags": []
   },
   "outputs": [
    {
     "name": "stdout",
     "output_type": "stream",
     "text": [
      "model predict [[9.9993175e-01]\n",
      " [9.9999654e-01]\n",
      " [1.6014726e-09]\n",
      " [9.6053338e-01]\n",
      " [9.9823284e-01]\n",
      " [5.4744933e-06]\n",
      " [1.5920043e-05]]\n"
     ]
    }
   ],
   "source": [
    "tweets = [\"crushes are great until you realize they'll never be interested in you\", \n",
    "            \"Sad that when someone drinks they treat you like shit and won't talk to you.\",\n",
    "          \"that is the face of a tired man hahahahah\", \"You're never too old for Footie Pajamas.\",\n",
    "         \"You are not allowed to open that until Christmas day!\", \"Hello I am here\", \"Auntie just called and said shes on her way\"]\n",
    "sequences = token.texts_to_sequences(tweets)\n",
    "padded = pad_sequences(sequences, maxlen=maximum_length, padding=padding_type, truncating=trunc_type)\n",
    "print(\"model predict\", model.predict(padded))"
   ]
  },
  {
   "cell_type": "markdown",
   "id": "e616e8e4",
   "metadata": {
    "papermill": {
     "duration": 0.008802,
     "end_time": "2022-08-22T21:57:14.300051",
     "exception": false,
     "start_time": "2022-08-22T21:57:14.291249",
     "status": "completed"
    },
    "tags": []
   },
   "source": [
    "Very hight accuracy around 99%"
   ]
  },
  {
   "cell_type": "code",
   "execution_count": 9,
   "id": "06454d4e",
   "metadata": {
    "execution": {
     "iopub.execute_input": "2022-08-22T21:57:14.318530Z",
     "iopub.status.busy": "2022-08-22T21:57:14.317942Z",
     "iopub.status.idle": "2022-08-22T21:57:14.671603Z",
     "shell.execute_reply": "2022-08-22T21:57:14.670676Z"
    },
    "papermill": {
     "duration": 0.364931,
     "end_time": "2022-08-22T21:57:14.673410",
     "exception": false,
     "start_time": "2022-08-22T21:57:14.308479",
     "status": "completed"
    },
    "tags": []
   },
   "outputs": [
    {
     "data": {
      "image/png": "[encoded data removed]",
      "text/plain": [
       "<Figure size 432x288 with 1 Axes>"
      ]
     },
     "metadata": {
      "needs_background": "light"
     },
     "output_type": "display_data"
    },
    {
     "data": {
      "image/png": "[encoded data removed]",
      "text/plain": [
       "<Figure size 432x288 with 1 Axes>"
      ]
     },
     "metadata": {
      "needs_background": "light"
     },
     "output_type": "display_data"
    }
   ],
   "source": [
    "def sarcasmPlotGraphs(history, str):\n",
    "    plt.plot(history.history[str])\n",
    "    plt.plot(history.history['val_'+str])\n",
    "    plt.xlabel(\"Epochs\")\n",
    "    plt.ylabel(str)\n",
    "    plt.legend([str, 'test_'+str])\n",
    "    plt.show()\n",
    "\n",
    "sarcasmPlotGraphs(history, \"accuracy\")\n",
    "sarcasmPlotGraphs(history, \"loss\")\n",
    "\n",
    "plt.show()"
   ]
  },
  {
   "cell_type": "code",
   "execution_count": null,
   "id": "cfd29f04",
   "metadata": {
    "papermill": {
     "duration": 0.008665,
     "end_time": "2022-08-22T21:57:14.691331",
     "exception": false,
     "start_time": "2022-08-22T21:57:14.682666",
     "status": "completed"
    },
    "tags": []
   },
   "outputs": [],
   "source": []
  },
  {
   "cell_type": "code",
   "execution_count": null,
   "id": "744156f1",
   "metadata": {
    "papermill": {
     "duration": 0.008676,
     "end_time": "2022-08-22T21:57:14.708779",
     "exception": false,
     "start_time": "2022-08-22T21:57:14.700103",
     "status": "completed"
    },
    "tags": []
   },
   "outputs": [],
   "source": []
  },
  {
   "cell_type": "code",
   "execution_count": null,
   "id": "346a1e61",
   "metadata": {
    "papermill": {
     "duration": 0.008648,
     "end_time": "2022-08-22T21:57:14.726254",
     "exception": false,
     "start_time": "2022-08-22T21:57:14.717606",
     "status": "completed"
    },
    "tags": []
   },
   "outputs": [],
   "source": []
  },
  {
   "cell_type": "code",
   "execution_count": null,
   "id": "690b5fcb",
   "metadata": {
    "papermill": {
     "duration": 0.008642,
     "end_time": "2022-08-22T21:57:14.743837",
     "exception": false,
     "start_time": "2022-08-22T21:57:14.735195",
     "status": "completed"
    },
    "tags": []
   },
   "outputs": [],
   "source": []
  },
  {
   "cell_type": "code",
   "execution_count": null,
   "id": "bd63097b",
   "metadata": {
    "papermill": {
     "duration": 0.008748,
     "end_time": "2022-08-22T21:57:14.761396",
     "exception": false,
     "start_time": "2022-08-22T21:57:14.752648",
     "status": "completed"
    },
    "tags": []
   },
   "outputs": [],
   "source": []
  },
  {
   "cell_type": "code",
   "execution_count": null,
   "id": "5574ae1f",
   "metadata": {
    "papermill": {
     "duration": 0.00857,
     "end_time": "2022-08-22T21:57:14.778802",
     "exception": false,
     "start_time": "2022-08-22T21:57:14.770232",
     "status": "completed"
    },
    "tags": []
   },
   "outputs": [],
   "source": []
  },
  {
   "cell_type": "code",
   "execution_count": null,
   "id": "2e86db43",
   "metadata": {
    "papermill": {
     "duration": 0.008641,
     "end_time": "2022-08-22T21:57:14.796320",
     "exception": false,
     "start_time": "2022-08-22T21:57:14.787679",
     "status": "completed"
    },
    "tags": []
   },
   "outputs": [],
   "source": []
  }
 ],
 "metadata": {
  "kernelspec": {
   "display_name": "Python 3",
   "language": "python",
   "name": "python3"
  },
  "language_info": {
   "codemirror_mode": {
    "name": "ipython",
    "version": 3
   },
   "file_extension": ".py",
   "mimetype": "text/x-python",
   "name": "python",
   "nbconvert_exporter": "python",
   "pygments_lexer": "ipython3",
   "version": "3.7.12"
  },
  "papermill": {
   "default_parameters": {},
   "duration": 71.698301,
   "end_time": "2022-08-22T21:57:18.403548",
   "environment_variables": {},
   "exception": null,
   "input_path": "__notebook__.ipynb",
   "output_path": "__notebook__.ipynb",
   "parameters": {},
   "start_time": "2022-08-22T21:56:06.705247",
   "version": "2.3.4"
  }
 },
 "nbformat": 4,
 "nbformat_minor": 5
}
